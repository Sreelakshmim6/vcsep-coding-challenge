{
 "cells": [
  {
   "cell_type": "code",
   "execution_count": 3,
   "metadata": {},
   "outputs": [
    {
     "name": "stderr",
     "output_type": "stream",
     "text": [
      "C:\\Users\\Siri\\Anaconda3\\lib\\site-packages\\numpy\\_distributor_init.py:32: UserWarning: loaded more than 1 DLL from .libs:\n",
      "C:\\Users\\Siri\\Anaconda3\\lib\\site-packages\\numpy\\.libs\\libopenblas.GK7GX5KEQ4F6UYO3P26ULGBQYHGQO7J4.gfortran-win_amd64.dll\n",
      "C:\\Users\\Siri\\Anaconda3\\lib\\site-packages\\numpy\\.libs\\libopenblas.TXA6YQSD3GCQQC22GEQ54J2UDCXDXHWN.gfortran-win_amd64.dll\n",
      "  stacklevel=1)\n"
     ]
    }
   ],
   "source": [
    "import pandas as pd\n",
    "import numpy as np"
   ]
  },
  {
   "cell_type": "code",
   "execution_count": 26,
   "metadata": {},
   "outputs": [],
   "source": [
    "\n",
    "imd=pd.read_excel('https://github.com/Sreelakshmim6/vcsep-coding-challenge/blob/main/File10.xlsx?raw=true',sheet_name='IMD')\n",
    "income=pd.read_excel('https://github.com/Sreelakshmim6/vcsep-coding-challenge/blob/main/File10.xlsx?raw=true',sheet_name='Income')\n",
    "emp=pd.read_excel('https://github.com/Sreelakshmim6/vcsep-coding-challenge/blob/main/File10.xlsx?raw=true',sheet_name='Employment')\n",
    "edu=pd.read_excel('https://github.com/Sreelakshmim6/vcsep-coding-challenge/blob/main/File10.xlsx?raw=true',sheet_name='Education')\n",
    "health=pd.read_excel('https://github.com/Sreelakshmim6/vcsep-coding-challenge/blob/main/File10.xlsx?raw=true',sheet_name='Health')\n",
    "crime=pd.read_excel('https://github.com/Sreelakshmim6/vcsep-coding-challenge/blob/main/File10.xlsx?raw=true',sheet_name='Crime')\n",
    "bar=pd.read_excel('https://github.com/Sreelakshmim6/vcsep-coding-challenge/blob/main/File10.xlsx?raw=true',sheet_name='Barriers')\n",
    "liv=pd.read_excel('https://github.com/Sreelakshmim6/vcsep-coding-challenge/blob/main/File10.xlsx?raw=true',sheet_name='Living')\n",
    "idaci=pd.read_excel('https://github.com/Sreelakshmim6/vcsep-coding-challenge/blob/main/File10.xlsx?raw=true',sheet_name='IDACI')\n",
    "idaopi=pd.read_excel('https://github.com/Sreelakshmim6/vcsep-coding-challenge/blob/main/File10.xlsx?raw=true',sheet_name='IDAOPI')"
   ]
  },
  {
   "cell_type": "code",
   "execution_count": 45,
   "metadata": {},
   "outputs": [],
   "source": [
    "imd=pd.DataFrame(imd)"
   ]
  },
  {
   "cell_type": "code",
   "execution_count": 51,
   "metadata": {},
   "outputs": [
    {
     "data": {
      "text/html": [
       "<div>\n",
       "<style scoped>\n",
       "    .dataframe tbody tr th:only-of-type {\n",
       "        vertical-align: middle;\n",
       "    }\n",
       "\n",
       "    .dataframe tbody tr th {\n",
       "        vertical-align: top;\n",
       "    }\n",
       "\n",
       "    .dataframe thead th {\n",
       "        text-align: right;\n",
       "    }\n",
       "</style>\n",
       "<table border=\"1\" class=\"dataframe\">\n",
       "  <thead>\n",
       "    <tr style=\"text-align: right;\">\n",
       "      <th></th>\n",
       "      <th>Local Authority District code (2019)</th>\n",
       "      <th>Local Authority District name (2019)</th>\n",
       "      <th>IMD - Average rank</th>\n",
       "      <th>IMD - Rank of average rank</th>\n",
       "      <th>IMD - Average score</th>\n",
       "      <th>IMD - Rank of average score</th>\n",
       "      <th>IMD - Proportion of LSOAs in most deprived 10% nationally</th>\n",
       "      <th>IMD - Rank of proportion of LSOAs in most deprived 10% nationally</th>\n",
       "      <th>IMD 2019 - Extent</th>\n",
       "      <th>IMD 2019 - Rank of extent</th>\n",
       "      <th>IMD 2019 - Local concentration</th>\n",
       "      <th>IMD 2019 - Rank of local concentration</th>\n",
       "    </tr>\n",
       "  </thead>\n",
       "  <tbody>\n",
       "    <tr>\n",
       "      <th>0</th>\n",
       "      <td>E06000001</td>\n",
       "      <td>Hartlepool</td>\n",
       "      <td>22581.98</td>\n",
       "      <td>25</td>\n",
       "      <td>35.037</td>\n",
       "      <td>10</td>\n",
       "      <td>0.3621</td>\n",
       "      <td>10</td>\n",
       "      <td>0.4973</td>\n",
       "      <td>14</td>\n",
       "      <td>32560.44</td>\n",
       "      <td>10</td>\n",
       "    </tr>\n",
       "    <tr>\n",
       "      <th>1</th>\n",
       "      <td>E06000002</td>\n",
       "      <td>Middlesbrough</td>\n",
       "      <td>23729.10</td>\n",
       "      <td>16</td>\n",
       "      <td>40.460</td>\n",
       "      <td>5</td>\n",
       "      <td>0.4884</td>\n",
       "      <td>1</td>\n",
       "      <td>0.5710</td>\n",
       "      <td>6</td>\n",
       "      <td>32726.13</td>\n",
       "      <td>3</td>\n",
       "    </tr>\n",
       "    <tr>\n",
       "      <th>2</th>\n",
       "      <td>E06000003</td>\n",
       "      <td>Redcar and Cleveland</td>\n",
       "      <td>20348.40</td>\n",
       "      <td>62</td>\n",
       "      <td>29.792</td>\n",
       "      <td>40</td>\n",
       "      <td>0.2386</td>\n",
       "      <td>29</td>\n",
       "      <td>0.3630</td>\n",
       "      <td>43</td>\n",
       "      <td>32545.62</td>\n",
       "      <td>11</td>\n",
       "    </tr>\n",
       "    <tr>\n",
       "      <th>3</th>\n",
       "      <td>E06000004</td>\n",
       "      <td>Stockton-on-Tees</td>\n",
       "      <td>17541.72</td>\n",
       "      <td>113</td>\n",
       "      <td>25.790</td>\n",
       "      <td>73</td>\n",
       "      <td>0.2083</td>\n",
       "      <td>39</td>\n",
       "      <td>0.3024</td>\n",
       "      <td>59</td>\n",
       "      <td>32301.09</td>\n",
       "      <td>24</td>\n",
       "    </tr>\n",
       "    <tr>\n",
       "      <th>4</th>\n",
       "      <td>E06000005</td>\n",
       "      <td>Darlington</td>\n",
       "      <td>18284.63</td>\n",
       "      <td>103</td>\n",
       "      <td>25.657</td>\n",
       "      <td>77</td>\n",
       "      <td>0.1846</td>\n",
       "      <td>47</td>\n",
       "      <td>0.2891</td>\n",
       "      <td>66</td>\n",
       "      <td>32173.97</td>\n",
       "      <td>32</td>\n",
       "    </tr>\n",
       "  </tbody>\n",
       "</table>\n",
       "</div>"
      ],
      "text/plain": [
       "  Local Authority District code (2019) Local Authority District name (2019)  \\\n",
       "0                            E06000001                           Hartlepool   \n",
       "1                            E06000002                        Middlesbrough   \n",
       "2                            E06000003                 Redcar and Cleveland   \n",
       "3                            E06000004                     Stockton-on-Tees   \n",
       "4                            E06000005                           Darlington   \n",
       "\n",
       "   IMD - Average rank   IMD - Rank of average rank   IMD - Average score   \\\n",
       "0             22581.98                           25                35.037   \n",
       "1             23729.10                           16                40.460   \n",
       "2             20348.40                           62                29.792   \n",
       "3             17541.72                          113                25.790   \n",
       "4             18284.63                          103                25.657   \n",
       "\n",
       "   IMD - Rank of average score   \\\n",
       "0                            10   \n",
       "1                             5   \n",
       "2                            40   \n",
       "3                            73   \n",
       "4                            77   \n",
       "\n",
       "   IMD - Proportion of LSOAs in most deprived 10% nationally   \\\n",
       "0                                             0.3621            \n",
       "1                                             0.4884            \n",
       "2                                             0.2386            \n",
       "3                                             0.2083            \n",
       "4                                             0.1846            \n",
       "\n",
       "   IMD - Rank of proportion of LSOAs in most deprived 10% nationally   \\\n",
       "0                                                 10                    \n",
       "1                                                  1                    \n",
       "2                                                 29                    \n",
       "3                                                 39                    \n",
       "4                                                 47                    \n",
       "\n",
       "   IMD 2019 - Extent   IMD 2019 - Rank of extent   \\\n",
       "0              0.4973                          14   \n",
       "1              0.5710                           6   \n",
       "2              0.3630                          43   \n",
       "3              0.3024                          59   \n",
       "4              0.2891                          66   \n",
       "\n",
       "   IMD 2019 - Local concentration   IMD 2019 - Rank of local concentration   \n",
       "0                         32560.44                                       10  \n",
       "1                         32726.13                                        3  \n",
       "2                         32545.62                                       11  \n",
       "3                         32301.09                                       24  \n",
       "4                         32173.97                                       32  "
      ]
     },
     "execution_count": 51,
     "metadata": {},
     "output_type": "execute_result"
    }
   ],
   "source": [
    "imd.head()"
   ]
  },
  {
   "cell_type": "code",
   "execution_count": 90,
   "metadata": {
    "scrolled": true
   },
   "outputs": [
    {
     "data": {
      "image/png": "[encoded data removed]",
      "text/plain": [
       "<Figure size 432x288 with 1 Axes>"
      ]
     },
     "metadata": {
      "needs_background": "light"
     },
     "output_type": "display_data"
    }
   ],
   "source": [
    "import matplotlib.pyplot as plt\n",
    "x= plt.hist(imd['IMD - Average rank '], bins='auto')\n",
    "plt.show()"
   ]
  },
  {
   "cell_type": "markdown",
   "metadata": {},
   "source": [
    "we will be making 10 groups based on the histogram"
   ]
  },
  {
   "cell_type": "code",
   "execution_count": 102,
   "metadata": {},
   "outputs": [],
   "source": [
    "A=max(imd['IMD - Rank of average rank '])*0.1\n",
    "B=max(imd['IMD - Rank of average rank '])*0.2\n",
    "C=max(imd['IMD - Rank of average rank '])*0.3\n",
    "D=max(imd['IMD - Rank of average rank '])*0.4\n",
    "E=max(imd['IMD - Rank of average rank '])*0.5\n",
    "F=max(imd['IMD - Rank of average rank '])*0.6\n",
    "G=max(imd['IMD - Rank of average rank '])*0.7\n",
    "H=max(imd['IMD - Rank of average rank '])*0.8\n",
    "I=max(imd['IMD - Rank of average rank '])*0.9\n",
    "J=max(imd['IMD - Rank of average rank '])*1\n"
   ]
  },
  {
   "cell_type": "code",
   "execution_count": 103,
   "metadata": {},
   "outputs": [
    {
     "data": {
      "text/html": [
       "<div>\n",
       "<style scoped>\n",
       "    .dataframe tbody tr th:only-of-type {\n",
       "        vertical-align: middle;\n",
       "    }\n",
       "\n",
       "    .dataframe tbody tr th {\n",
       "        vertical-align: top;\n",
       "    }\n",
       "\n",
       "    .dataframe thead th {\n",
       "        text-align: right;\n",
       "    }\n",
       "</style>\n",
       "<table border=\"1\" class=\"dataframe\">\n",
       "  <thead>\n",
       "    <tr style=\"text-align: right;\">\n",
       "      <th></th>\n",
       "      <th>Local Authority District code (2019)</th>\n",
       "      <th>Local Authority District name (2019)</th>\n",
       "      <th>IMD - Average rank</th>\n",
       "      <th>IMD - Rank of average rank</th>\n",
       "      <th>IMD - Average score</th>\n",
       "      <th>IMD - Rank of average score</th>\n",
       "      <th>IMD - Proportion of LSOAs in most deprived 10% nationally</th>\n",
       "      <th>IMD - Rank of proportion of LSOAs in most deprived 10% nationally</th>\n",
       "      <th>IMD 2019 - Extent</th>\n",
       "      <th>IMD 2019 - Rank of extent</th>\n",
       "      <th>IMD 2019 - Local concentration</th>\n",
       "      <th>IMD 2019 - Rank of local concentration</th>\n",
       "      <th>Quartile</th>\n",
       "    </tr>\n",
       "  </thead>\n",
       "  <tbody>\n",
       "    <tr>\n",
       "      <th>0</th>\n",
       "      <td>E06000001</td>\n",
       "      <td>Hartlepool</td>\n",
       "      <td>22581.98</td>\n",
       "      <td>25</td>\n",
       "      <td>35.037</td>\n",
       "      <td>10</td>\n",
       "      <td>0.3621</td>\n",
       "      <td>10</td>\n",
       "      <td>0.4973</td>\n",
       "      <td>14</td>\n",
       "      <td>32560.44</td>\n",
       "      <td>10</td>\n",
       "      <td>A</td>\n",
       "    </tr>\n",
       "    <tr>\n",
       "      <th>1</th>\n",
       "      <td>E06000002</td>\n",
       "      <td>Middlesbrough</td>\n",
       "      <td>23729.10</td>\n",
       "      <td>16</td>\n",
       "      <td>40.460</td>\n",
       "      <td>5</td>\n",
       "      <td>0.4884</td>\n",
       "      <td>1</td>\n",
       "      <td>0.5710</td>\n",
       "      <td>6</td>\n",
       "      <td>32726.13</td>\n",
       "      <td>3</td>\n",
       "      <td>A</td>\n",
       "    </tr>\n",
       "    <tr>\n",
       "      <th>2</th>\n",
       "      <td>E06000003</td>\n",
       "      <td>Redcar and Cleveland</td>\n",
       "      <td>20348.40</td>\n",
       "      <td>62</td>\n",
       "      <td>29.792</td>\n",
       "      <td>40</td>\n",
       "      <td>0.2386</td>\n",
       "      <td>29</td>\n",
       "      <td>0.3630</td>\n",
       "      <td>43</td>\n",
       "      <td>32545.62</td>\n",
       "      <td>11</td>\n",
       "      <td>B</td>\n",
       "    </tr>\n",
       "    <tr>\n",
       "      <th>3</th>\n",
       "      <td>E06000004</td>\n",
       "      <td>Stockton-on-Tees</td>\n",
       "      <td>17541.72</td>\n",
       "      <td>113</td>\n",
       "      <td>25.790</td>\n",
       "      <td>73</td>\n",
       "      <td>0.2083</td>\n",
       "      <td>39</td>\n",
       "      <td>0.3024</td>\n",
       "      <td>59</td>\n",
       "      <td>32301.09</td>\n",
       "      <td>24</td>\n",
       "      <td>D</td>\n",
       "    </tr>\n",
       "    <tr>\n",
       "      <th>4</th>\n",
       "      <td>E06000005</td>\n",
       "      <td>Darlington</td>\n",
       "      <td>18284.63</td>\n",
       "      <td>103</td>\n",
       "      <td>25.657</td>\n",
       "      <td>77</td>\n",
       "      <td>0.1846</td>\n",
       "      <td>47</td>\n",
       "      <td>0.2891</td>\n",
       "      <td>66</td>\n",
       "      <td>32173.97</td>\n",
       "      <td>32</td>\n",
       "      <td>D</td>\n",
       "    </tr>\n",
       "    <tr>\n",
       "      <th>...</th>\n",
       "      <td>...</td>\n",
       "      <td>...</td>\n",
       "      <td>...</td>\n",
       "      <td>...</td>\n",
       "      <td>...</td>\n",
       "      <td>...</td>\n",
       "      <td>...</td>\n",
       "      <td>...</td>\n",
       "      <td>...</td>\n",
       "      <td>...</td>\n",
       "      <td>...</td>\n",
       "      <td>...</td>\n",
       "      <td>...</td>\n",
       "    </tr>\n",
       "    <tr>\n",
       "      <th>312</th>\n",
       "      <td>E09000029</td>\n",
       "      <td>Sutton</td>\n",
       "      <td>11415.25</td>\n",
       "      <td>227</td>\n",
       "      <td>13.987</td>\n",
       "      <td>226</td>\n",
       "      <td>0.0083</td>\n",
       "      <td>188</td>\n",
       "      <td>0.0582</td>\n",
       "      <td>186</td>\n",
       "      <td>26617.95</td>\n",
       "      <td>186</td>\n",
       "      <td>H</td>\n",
       "    </tr>\n",
       "    <tr>\n",
       "      <th>313</th>\n",
       "      <td>E09000030</td>\n",
       "      <td>Tower Hamlets</td>\n",
       "      <td>22507.05</td>\n",
       "      <td>27</td>\n",
       "      <td>27.913</td>\n",
       "      <td>50</td>\n",
       "      <td>0.0139</td>\n",
       "      <td>175</td>\n",
       "      <td>0.3057</td>\n",
       "      <td>57</td>\n",
       "      <td>29011.42</td>\n",
       "      <td>134</td>\n",
       "      <td>A</td>\n",
       "    </tr>\n",
       "    <tr>\n",
       "      <th>314</th>\n",
       "      <td>E09000031</td>\n",
       "      <td>Waltham Forest</td>\n",
       "      <td>21186.64</td>\n",
       "      <td>45</td>\n",
       "      <td>25.209</td>\n",
       "      <td>82</td>\n",
       "      <td>0.0208</td>\n",
       "      <td>162</td>\n",
       "      <td>0.1783</td>\n",
       "      <td>115</td>\n",
       "      <td>28906.69</td>\n",
       "      <td>141</td>\n",
       "      <td>B</td>\n",
       "    </tr>\n",
       "    <tr>\n",
       "      <th>315</th>\n",
       "      <td>E09000032</td>\n",
       "      <td>Wandsworth</td>\n",
       "      <td>14312.18</td>\n",
       "      <td>173</td>\n",
       "      <td>16.611</td>\n",
       "      <td>183</td>\n",
       "      <td>0.0000</td>\n",
       "      <td>195</td>\n",
       "      <td>0.0495</td>\n",
       "      <td>199</td>\n",
       "      <td>25999.84</td>\n",
       "      <td>198</td>\n",
       "      <td>F</td>\n",
       "    </tr>\n",
       "    <tr>\n",
       "      <th>316</th>\n",
       "      <td>E09000033</td>\n",
       "      <td>Westminster</td>\n",
       "      <td>16573.82</td>\n",
       "      <td>134</td>\n",
       "      <td>20.339</td>\n",
       "      <td>137</td>\n",
       "      <td>0.0234</td>\n",
       "      <td>155</td>\n",
       "      <td>0.1587</td>\n",
       "      <td>131</td>\n",
       "      <td>29203.12</td>\n",
       "      <td>132</td>\n",
       "      <td>E</td>\n",
       "    </tr>\n",
       "  </tbody>\n",
       "</table>\n",
       "<p>317 rows × 13 columns</p>\n",
       "</div>"
      ],
      "text/plain": [
       "    Local Authority District code (2019) Local Authority District name (2019)  \\\n",
       "0                              E06000001                           Hartlepool   \n",
       "1                              E06000002                        Middlesbrough   \n",
       "2                              E06000003                 Redcar and Cleveland   \n",
       "3                              E06000004                     Stockton-on-Tees   \n",
       "4                              E06000005                           Darlington   \n",
       "..                                   ...                                  ...   \n",
       "312                            E09000029                               Sutton   \n",
       "313                            E09000030                        Tower Hamlets   \n",
       "314                            E09000031                       Waltham Forest   \n",
       "315                            E09000032                           Wandsworth   \n",
       "316                            E09000033                          Westminster   \n",
       "\n",
       "     IMD - Average rank   IMD - Rank of average rank   IMD - Average score   \\\n",
       "0               22581.98                           25                35.037   \n",
       "1               23729.10                           16                40.460   \n",
       "2               20348.40                           62                29.792   \n",
       "3               17541.72                          113                25.790   \n",
       "4               18284.63                          103                25.657   \n",
       "..                   ...                          ...                   ...   \n",
       "312             11415.25                          227                13.987   \n",
       "313             22507.05                           27                27.913   \n",
       "314             21186.64                           45                25.209   \n",
       "315             14312.18                          173                16.611   \n",
       "316             16573.82                          134                20.339   \n",
       "\n",
       "     IMD - Rank of average score   \\\n",
       "0                              10   \n",
       "1                               5   \n",
       "2                              40   \n",
       "3                              73   \n",
       "4                              77   \n",
       "..                            ...   \n",
       "312                           226   \n",
       "313                            50   \n",
       "314                            82   \n",
       "315                           183   \n",
       "316                           137   \n",
       "\n",
       "     IMD - Proportion of LSOAs in most deprived 10% nationally   \\\n",
       "0                                               0.3621            \n",
       "1                                               0.4884            \n",
       "2                                               0.2386            \n",
       "3                                               0.2083            \n",
       "4                                               0.1846            \n",
       "..                                                 ...            \n",
       "312                                             0.0083            \n",
       "313                                             0.0139            \n",
       "314                                             0.0208            \n",
       "315                                             0.0000            \n",
       "316                                             0.0234            \n",
       "\n",
       "     IMD - Rank of proportion of LSOAs in most deprived 10% nationally   \\\n",
       "0                                                   10                    \n",
       "1                                                    1                    \n",
       "2                                                   29                    \n",
       "3                                                   39                    \n",
       "4                                                   47                    \n",
       "..                                                 ...                    \n",
       "312                                                188                    \n",
       "313                                                175                    \n",
       "314                                                162                    \n",
       "315                                                195                    \n",
       "316                                                155                    \n",
       "\n",
       "     IMD 2019 - Extent   IMD 2019 - Rank of extent   \\\n",
       "0                0.4973                          14   \n",
       "1                0.5710                           6   \n",
       "2                0.3630                          43   \n",
       "3                0.3024                          59   \n",
       "4                0.2891                          66   \n",
       "..                  ...                         ...   \n",
       "312              0.0582                         186   \n",
       "313              0.3057                          57   \n",
       "314              0.1783                         115   \n",
       "315              0.0495                         199   \n",
       "316              0.1587                         131   \n",
       "\n",
       "     IMD 2019 - Local concentration   IMD 2019 - Rank of local concentration   \\\n",
       "0                           32560.44                                       10   \n",
       "1                           32726.13                                        3   \n",
       "2                           32545.62                                       11   \n",
       "3                           32301.09                                       24   \n",
       "4                           32173.97                                       32   \n",
       "..                               ...                                      ...   \n",
       "312                         26617.95                                      186   \n",
       "313                         29011.42                                      134   \n",
       "314                         28906.69                                      141   \n",
       "315                         25999.84                                      198   \n",
       "316                         29203.12                                      132   \n",
       "\n",
       "    Quartile  \n",
       "0          A  \n",
       "1          A  \n",
       "2          B  \n",
       "3          D  \n",
       "4          D  \n",
       "..       ...  \n",
       "312        H  \n",
       "313        A  \n",
       "314        B  \n",
       "315        F  \n",
       "316        E  \n",
       "\n",
       "[317 rows x 13 columns]"
      ]
     },
     "execution_count": 103,
     "metadata": {},
     "output_type": "execute_result"
    }
   ],
   "source": [
    "def f(row):\n",
    "    if row['IMD - Rank of average rank '] < A:\n",
    "        val = 'A'\n",
    "    elif row['IMD - Rank of average rank '] < B:\n",
    "        val = 'B'\n",
    "    elif row['IMD - Rank of average rank '] < C:\n",
    "        val = 'C'\n",
    "    elif row['IMD - Rank of average rank '] < D:\n",
    "        val = 'D'\n",
    "    elif row['IMD - Rank of average rank '] < E:\n",
    "        val = 'E'\n",
    "    elif row['IMD - Rank of average rank '] < F:\n",
    "        val = 'F'\n",
    "    elif row['IMD - Rank of average rank '] < G:\n",
    "        val = 'G'\n",
    "    elif row['IMD - Rank of average rank '] < H:\n",
    "        val = 'H'\n",
    "    elif row['IMD - Rank of average rank '] < I:\n",
    "        val = 'I'\n",
    "    else:\n",
    "        val = 'J'\n",
    "    return val\n",
    "\n",
    "#create new column 'Good' using the function above\n",
    "imd['Quartile'] = imd.apply(f, axis=1)\n",
    "\n",
    "#view DataFrame \n",
    "imd\n"
   ]
  },
  {
   "cell_type": "code",
   "execution_count": 109,
   "metadata": {},
   "outputs": [],
   "source": [
    "mapping=[imd['Local Authority District code (2019)'],imd['Quartile']]"
   ]
  },
  {
   "cell_type": "code",
   "execution_count": 113,
   "metadata": {},
   "outputs": [],
   "source": [
    "mapping=pd.DataFrame(mapping).T"
   ]
  },
  {
   "cell_type": "code",
   "execution_count": 114,
   "metadata": {},
   "outputs": [
    {
     "data": {
      "text/html": [
       "<div>\n",
       "<style scoped>\n",
       "    .dataframe tbody tr th:only-of-type {\n",
       "        vertical-align: middle;\n",
       "    }\n",
       "\n",
       "    .dataframe tbody tr th {\n",
       "        vertical-align: top;\n",
       "    }\n",
       "\n",
       "    .dataframe thead th {\n",
       "        text-align: right;\n",
       "    }\n",
       "</style>\n",
       "<table border=\"1\" class=\"dataframe\">\n",
       "  <thead>\n",
       "    <tr style=\"text-align: right;\">\n",
       "      <th></th>\n",
       "      <th>Local Authority District code (2019)</th>\n",
       "      <th>Quartile</th>\n",
       "    </tr>\n",
       "  </thead>\n",
       "  <tbody>\n",
       "    <tr>\n",
       "      <th>0</th>\n",
       "      <td>E06000001</td>\n",
       "      <td>A</td>\n",
       "    </tr>\n",
       "    <tr>\n",
       "      <th>1</th>\n",
       "      <td>E06000002</td>\n",
       "      <td>A</td>\n",
       "    </tr>\n",
       "    <tr>\n",
       "      <th>2</th>\n",
       "      <td>E06000003</td>\n",
       "      <td>B</td>\n",
       "    </tr>\n",
       "    <tr>\n",
       "      <th>3</th>\n",
       "      <td>E06000004</td>\n",
       "      <td>D</td>\n",
       "    </tr>\n",
       "    <tr>\n",
       "      <th>4</th>\n",
       "      <td>E06000005</td>\n",
       "      <td>D</td>\n",
       "    </tr>\n",
       "    <tr>\n",
       "      <th>...</th>\n",
       "      <td>...</td>\n",
       "      <td>...</td>\n",
       "    </tr>\n",
       "    <tr>\n",
       "      <th>312</th>\n",
       "      <td>E09000029</td>\n",
       "      <td>H</td>\n",
       "    </tr>\n",
       "    <tr>\n",
       "      <th>313</th>\n",
       "      <td>E09000030</td>\n",
       "      <td>A</td>\n",
       "    </tr>\n",
       "    <tr>\n",
       "      <th>314</th>\n",
       "      <td>E09000031</td>\n",
       "      <td>B</td>\n",
       "    </tr>\n",
       "    <tr>\n",
       "      <th>315</th>\n",
       "      <td>E09000032</td>\n",
       "      <td>F</td>\n",
       "    </tr>\n",
       "    <tr>\n",
       "      <th>316</th>\n",
       "      <td>E09000033</td>\n",
       "      <td>E</td>\n",
       "    </tr>\n",
       "  </tbody>\n",
       "</table>\n",
       "<p>317 rows × 2 columns</p>\n",
       "</div>"
      ],
      "text/plain": [
       "    Local Authority District code (2019) Quartile\n",
       "0                              E06000001        A\n",
       "1                              E06000002        A\n",
       "2                              E06000003        B\n",
       "3                              E06000004        D\n",
       "4                              E06000005        D\n",
       "..                                   ...      ...\n",
       "312                            E09000029        H\n",
       "313                            E09000030        A\n",
       "314                            E09000031        B\n",
       "315                            E09000032        F\n",
       "316                            E09000033        E\n",
       "\n",
       "[317 rows x 2 columns]"
      ]
     },
     "execution_count": 114,
     "metadata": {},
     "output_type": "execute_result"
    }
   ],
   "source": [
    "mapping"
   ]
  },
  {
   "cell_type": "code",
   "execution_count": 115,
   "metadata": {},
   "outputs": [],
   "source": [
    "def merge(left,right):\n",
    "    m=pd.merge(left, right, how='left', on='Local Authority District code (2019)')\n",
    "    return m"
   ]
  },
  {
   "cell_type": "code",
   "execution_count": 118,
   "metadata": {},
   "outputs": [],
   "source": [
    "map_income=merge(income,mapping)\n",
    "map_emp=merge(emp,mapping)\n",
    "map_edu=merge(edu,mapping)\n",
    "map_health=merge(health,mapping)\n",
    "map_crime=merge(crime,mapping)\n",
    "map_bar=merge(bar,mapping)\n",
    "map_liv=merge(liv,mapping)\n",
    "map_idaci=merge(idaci,mapping)\n",
    "map_idaopi=merge(idaopi,mapping)\n"
   ]
  },
  {
   "cell_type": "code",
   "execution_count": 126,
   "metadata": {},
   "outputs": [],
   "source": [
    "mix=pd.DataFrame()\n"
   ]
  },
  {
   "cell_type": "code",
   "execution_count": 137,
   "metadata": {},
   "outputs": [],
   "source": [
    "mix['Income']=map_income.groupby(\"Quartile\")['Income - Average rank '].mean()\n",
    "mix['emp']=map_emp.groupby(\"Quartile\")['Employment - Average rank '].mean()\n",
    "mix['edu']=map_edu.groupby(\"Quartile\")['Education, Skills and Training - Average rank '].mean()\n",
    "mix['health']=map_health.groupby(\"Quartile\")['Health Deprivation and Disability - Average rank '].mean()\n",
    "mix['crime']=map_crime.groupby(\"Quartile\")['Crime - Average rank '].mean()\n",
    "mix['bar']=map_bar.groupby(\"Quartile\")['Barriers to Housing and Services - Average rank '].mean()\n",
    "mix['liv']=map_liv.groupby(\"Quartile\")['Living Environment - Average rank '].mean()\n",
    "mix['idaci']=map_idaci.groupby(\"Quartile\")['IDACI - Average rank '].mean()\n",
    "mix['idaopi']=map_idaopi.groupby(\"Quartile\")['IDAOPI - Average rank '].mean()\n"
   ]
  },
  {
   "cell_type": "code",
   "execution_count": 151,
   "metadata": {},
   "outputs": [],
   "source": [
    "mix=pd.DataFrame(mix)"
   ]
  },
  {
   "cell_type": "code",
   "execution_count": 172,
   "metadata": {},
   "outputs": [
    {
     "data": {
      "text/plain": [
       "<Figure size 864x720 with 0 Axes>"
      ]
     },
     "metadata": {},
     "output_type": "display_data"
    }
   ],
   "source": [
    "plt.figure(figsize=(12,10))\n",
    "width = 0.3"
   ]
  },
  {
   "cell_type": "code",
   "execution_count": null,
   "metadata": {},
   "outputs": [],
   "source": [
    "plt.bar(range(10), mix['Income'], width)    \n"
   ]
  },
  {
   "cell_type": "code",
   "execution_count": 173,
   "metadata": {},
   "outputs": [
    {
     "data": {
      "text/plain": [
       "<BarContainer object of 10 artists>"
      ]
     },
     "execution_count": 173,
     "metadata": {},
     "output_type": "execute_result"
    },
    {
     "data": {
      "image/png": "[encoded data removed]",
      "text/plain": [
       "<Figure size 432x288 with 1 Axes>"
      ]
     },
     "metadata": {
      "needs_background": "light"
     },
     "output_type": "display_data"
    }
   ],
   "source": [
    "plt.bar(range(10), mix['emp'], width)    \n"
   ]
  },
  {
   "cell_type": "code",
   "execution_count": 170,
   "metadata": {},
   "outputs": [
    {
     "data": {
      "text/plain": [
       "<BarContainer object of 10 artists>"
      ]
     },
     "execution_count": 170,
     "metadata": {},
     "output_type": "execute_result"
    },
    {
     "data": {
      "image/png": "[encoded data removed]",
      "text/plain": [
       "<Figure size 432x288 with 1 Axes>"
      ]
     },
     "metadata": {
      "needs_background": "light"
     },
     "output_type": "display_data"
    }
   ],
   "source": [
    "plt.bar(range(10), mix['edu'], width)\n"
   ]
  },
  {
   "cell_type": "code",
   "execution_count": 171,
   "metadata": {},
   "outputs": [
    {
     "data": {
      "text/plain": [
       "<BarContainer object of 10 artists>"
      ]
     },
     "execution_count": 171,
     "metadata": {},
     "output_type": "execute_result"
    },
    {
     "data": {
      "image/png": "[encoded data removed]",
      "text/plain": [
       "<Figure size 432x288 with 1 Axes>"
      ]
     },
     "metadata": {
      "needs_background": "light"
     },
     "output_type": "display_data"
    }
   ],
   "source": [
    "plt.bar(range(10), mix['health'], width)\n"
   ]
  },
  {
   "cell_type": "code",
   "execution_count": 175,
   "metadata": {},
   "outputs": [
    {
     "data": {
      "text/plain": [
       "<BarContainer object of 10 artists>"
      ]
     },
     "execution_count": 175,
     "metadata": {},
     "output_type": "execute_result"
    },
    {
     "data": {
      "image/png": "[encoded data removed]",
      "text/plain": [
       "<Figure size 432x288 with 1 Axes>"
      ]
     },
     "metadata": {
      "needs_background": "light"
     },
     "output_type": "display_data"
    }
   ],
   "source": [
    "plt.bar(range(10), mix['crime'], width)    \n"
   ]
  },
  {
   "cell_type": "code",
   "execution_count": 176,
   "metadata": {},
   "outputs": [
    {
     "data": {
      "text/plain": [
       "<BarContainer object of 10 artists>"
      ]
     },
     "execution_count": 176,
     "metadata": {},
     "output_type": "execute_result"
    },
    {
     "data": {
      "image/png": "[encoded data removed]",
      "text/plain": [
       "<Figure size 432x288 with 1 Axes>"
      ]
     },
     "metadata": {
      "needs_background": "light"
     },
     "output_type": "display_data"
    }
   ],
   "source": [
    "plt.bar(range(10), mix['bar'], width)    \n"
   ]
  },
  {
   "cell_type": "code",
   "execution_count": 177,
   "metadata": {},
   "outputs": [
    {
     "data": {
      "text/plain": [
       "<BarContainer object of 10 artists>"
      ]
     },
     "execution_count": 177,
     "metadata": {},
     "output_type": "execute_result"
    },
    {
     "data": {
      "image/png": "[encoded data removed]",
      "text/plain": [
       "<Figure size 432x288 with 1 Axes>"
      ]
     },
     "metadata": {
      "needs_background": "light"
     },
     "output_type": "display_data"
    }
   ],
   "source": [
    "plt.bar(range(10), mix['liv'], width)    \n"
   ]
  },
  {
   "cell_type": "code",
   "execution_count": 178,
   "metadata": {},
   "outputs": [
    {
     "data": {
      "text/plain": [
       "<BarContainer object of 10 artists>"
      ]
     },
     "execution_count": 178,
     "metadata": {},
     "output_type": "execute_result"
    },
    {
     "data": {
      "image/png": "[encoded data removed]",
      "text/plain": [
       "<Figure size 432x288 with 1 Axes>"
      ]
     },
     "metadata": {
      "needs_background": "light"
     },
     "output_type": "display_data"
    }
   ],
   "source": [
    "plt.bar(range(10), mix['idaci'], width)    \n"
   ]
  },
  {
   "cell_type": "code",
   "execution_count": 179,
   "metadata": {},
   "outputs": [
    {
     "data": {
      "text/plain": [
       "<BarContainer object of 10 artists>"
      ]
     },
     "execution_count": 179,
     "metadata": {},
     "output_type": "execute_result"
    },
    {
     "data": {
      "image/png": "[encoded data removed]",
      "text/plain": [
       "<Figure size 432x288 with 1 Axes>"
      ]
     },
     "metadata": {
      "needs_background": "light"
     },
     "output_type": "display_data"
    }
   ],
   "source": [
    "plt.bar(range(10), mix['idaopi'], width)    \n"
   ]
  },
  {
   "cell_type": "code",
   "execution_count": 188,
   "metadata": {},
   "outputs": [
    {
     "data": {
      "image/png": "[encoded data removed]",
      "text/plain": [
       "<Figure size 432x288 with 2 Axes>"
      ]
     },
     "metadata": {
      "needs_background": "light"
     },
     "output_type": "display_data"
    }
   ],
   "source": [
    "ax = sns.heatmap(mix.corr(),cmap='RdYlBu')\n"
   ]
  },
  {
   "cell_type": "code",
   "execution_count": 192,
   "metadata": {},
   "outputs": [
    {
     "data": {
      "text/html": [
       "<div>\n",
       "<style scoped>\n",
       "    .dataframe tbody tr th:only-of-type {\n",
       "        vertical-align: middle;\n",
       "    }\n",
       "\n",
       "    .dataframe tbody tr th {\n",
       "        vertical-align: top;\n",
       "    }\n",
       "\n",
       "    .dataframe thead th {\n",
       "        text-align: right;\n",
       "    }\n",
       "</style>\n",
       "<table border=\"1\" class=\"dataframe\">\n",
       "  <thead>\n",
       "    <tr style=\"text-align: right;\">\n",
       "      <th></th>\n",
       "      <th>Income</th>\n",
       "      <th>emp</th>\n",
       "      <th>edu</th>\n",
       "      <th>health</th>\n",
       "      <th>crime</th>\n",
       "      <th>bar</th>\n",
       "      <th>liv</th>\n",
       "      <th>idaci</th>\n",
       "      <th>idaopi</th>\n",
       "    </tr>\n",
       "  </thead>\n",
       "  <tbody>\n",
       "    <tr>\n",
       "      <th>count</th>\n",
       "      <td>10.000000</td>\n",
       "      <td>10.000000</td>\n",
       "      <td>10.000000</td>\n",
       "      <td>10.000000</td>\n",
       "      <td>10.000000</td>\n",
       "      <td>10.000000</td>\n",
       "      <td>10.000000</td>\n",
       "      <td>10.000000</td>\n",
       "      <td>10.000000</td>\n",
       "    </tr>\n",
       "    <tr>\n",
       "      <th>mean</th>\n",
       "      <td>15243.995787</td>\n",
       "      <td>15310.318953</td>\n",
       "      <td>16070.445452</td>\n",
       "      <td>14939.884627</td>\n",
       "      <td>14805.762610</td>\n",
       "      <td>16466.184047</td>\n",
       "      <td>15597.606798</td>\n",
       "      <td>16003.528061</td>\n",
       "      <td>13941.702190</td>\n",
       "    </tr>\n",
       "    <tr>\n",
       "      <th>std</th>\n",
       "      <td>4948.636281</td>\n",
       "      <td>5066.069743</td>\n",
       "      <td>3939.534829</td>\n",
       "      <td>6576.311543</td>\n",
       "      <td>4509.926291</td>\n",
       "      <td>601.214374</td>\n",
       "      <td>2860.748228</td>\n",
       "      <td>4934.697401</td>\n",
       "      <td>4721.224732</td>\n",
       "    </tr>\n",
       "    <tr>\n",
       "      <th>min</th>\n",
       "      <td>7707.860625</td>\n",
       "      <td>7245.119375</td>\n",
       "      <td>9052.561250</td>\n",
       "      <td>4586.357188</td>\n",
       "      <td>9508.450625</td>\n",
       "      <td>15751.255000</td>\n",
       "      <td>10496.493125</td>\n",
       "      <td>8359.951875</td>\n",
       "      <td>7335.183750</td>\n",
       "    </tr>\n",
       "    <tr>\n",
       "      <th>25%</th>\n",
       "      <td>11542.064803</td>\n",
       "      <td>11712.209924</td>\n",
       "      <td>13729.462535</td>\n",
       "      <td>10235.158604</td>\n",
       "      <td>11367.545764</td>\n",
       "      <td>16064.045880</td>\n",
       "      <td>14133.809365</td>\n",
       "      <td>12394.702109</td>\n",
       "      <td>10249.056341</td>\n",
       "    </tr>\n",
       "    <tr>\n",
       "      <th>50%</th>\n",
       "      <td>15186.668750</td>\n",
       "      <td>15234.878438</td>\n",
       "      <td>16513.131094</td>\n",
       "      <td>14402.537031</td>\n",
       "      <td>13847.785625</td>\n",
       "      <td>16297.063906</td>\n",
       "      <td>15780.364788</td>\n",
       "      <td>16066.598594</td>\n",
       "      <td>13600.120000</td>\n",
       "    </tr>\n",
       "    <tr>\n",
       "      <th>75%</th>\n",
       "      <td>18436.187629</td>\n",
       "      <td>19055.346109</td>\n",
       "      <td>19177.236426</td>\n",
       "      <td>20210.468382</td>\n",
       "      <td>17735.285905</td>\n",
       "      <td>17058.637921</td>\n",
       "      <td>17207.734375</td>\n",
       "      <td>19142.756847</td>\n",
       "      <td>16444.146013</td>\n",
       "    </tr>\n",
       "    <tr>\n",
       "      <th>max</th>\n",
       "      <td>23331.000645</td>\n",
       "      <td>22949.002581</td>\n",
       "      <td>21572.567419</td>\n",
       "      <td>25006.146452</td>\n",
       "      <td>22472.435484</td>\n",
       "      <td>17342.727500</td>\n",
       "      <td>20910.420323</td>\n",
       "      <td>23915.933226</td>\n",
       "      <td>22376.769355</td>\n",
       "    </tr>\n",
       "  </tbody>\n",
       "</table>\n",
       "</div>"
      ],
      "text/plain": [
       "             Income           emp           edu        health         crime  \\\n",
       "count     10.000000     10.000000     10.000000     10.000000     10.000000   \n",
       "mean   15243.995787  15310.318953  16070.445452  14939.884627  14805.762610   \n",
       "std     4948.636281   5066.069743   3939.534829   6576.311543   4509.926291   \n",
       "min     7707.860625   7245.119375   9052.561250   4586.357188   9508.450625   \n",
       "25%    11542.064803  11712.209924  13729.462535  10235.158604  11367.545764   \n",
       "50%    15186.668750  15234.878438  16513.131094  14402.537031  13847.785625   \n",
       "75%    18436.187629  19055.346109  19177.236426  20210.468382  17735.285905   \n",
       "max    23331.000645  22949.002581  21572.567419  25006.146452  22472.435484   \n",
       "\n",
       "                bar           liv         idaci        idaopi  \n",
       "count     10.000000     10.000000     10.000000     10.000000  \n",
       "mean   16466.184047  15597.606798  16003.528061  13941.702190  \n",
       "std      601.214374   2860.748228   4934.697401   4721.224732  \n",
       "min    15751.255000  10496.493125   8359.951875   7335.183750  \n",
       "25%    16064.045880  14133.809365  12394.702109  10249.056341  \n",
       "50%    16297.063906  15780.364788  16066.598594  13600.120000  \n",
       "75%    17058.637921  17207.734375  19142.756847  16444.146013  \n",
       "max    17342.727500  20910.420323  23915.933226  22376.769355  "
      ]
     },
     "execution_count": 192,
     "metadata": {},
     "output_type": "execute_result"
    }
   ],
   "source": [
    "mix.describe(include='all')"
   ]
  },
  {
   "cell_type": "code",
   "execution_count": 198,
   "metadata": {},
   "outputs": [
    {
     "data": {
      "text/plain": [
       "Income    2.448900e+07\n",
       "emp       2.566506e+07\n",
       "edu       1.551993e+07\n",
       "health    4.324787e+07\n",
       "crime     2.033944e+07\n",
       "bar       3.614587e+05\n",
       "liv       8.183880e+06\n",
       "idaci     2.435124e+07\n",
       "idaopi    2.228996e+07\n",
       "dtype: float64"
      ]
     },
     "execution_count": 198,
     "metadata": {},
     "output_type": "execute_result"
    }
   ],
   "source": [
    "mix.var()"
   ]
  },
  {
   "cell_type": "code",
   "execution_count": 207,
   "metadata": {},
   "outputs": [
    {
     "data": {
      "text/plain": [
       "<BarContainer object of 9 artists>"
      ]
     },
     "execution_count": 207,
     "metadata": {},
     "output_type": "execute_result"
    },
    {
     "data": {
      "image/png": "[encoded data removed]",
      "text/plain": [
       "<Figure size 432x288 with 1 Axes>"
      ]
     },
     "metadata": {
      "needs_background": "light"
     },
     "output_type": "display_data"
    }
   ],
   "source": [
    "v=mix.var()\n",
    "v=pd.DataFrame(v)\n",
    "plt.bar(mix.columns,v[0])"
   ]
  },
  {
   "cell_type": "markdown",
   "metadata": {},
   "source": [
    "# By the variation of different matrices among different groups shows that health is most distinguishing factor for different deprivation districts, where as barrier is the least distinguishing factor. #Income, employment, idaci and idaopi are few of the primary factors."
   ]
  },
  {
   "cell_type": "code",
   "execution_count": null,
   "metadata": {},
   "outputs": [],
   "source": []
  }
 ],
 "metadata": {
  "kernelspec": {
   "display_name": "Python 3",
   "language": "python",
   "name": "python3"
  },
  "language_info": {
   "codemirror_mode": {
    "name": "ipython",
    "version": 3
   },
   "file_extension": ".py",
   "mimetype": "text/x-python",
   "name": "python",
   "nbconvert_exporter": "python",
   "pygments_lexer": "ipython3",
   "version": "3.7.7"
  }
 },
 "nbformat": 4,
 "nbformat_minor": 4
}
